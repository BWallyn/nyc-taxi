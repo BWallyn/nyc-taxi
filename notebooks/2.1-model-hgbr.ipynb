{
 "cells": [
  {
   "cell_type": "markdown",
   "metadata": {},
   "source": [
    "# Create model"
   ]
  },
  {
   "cell_type": "markdown",
   "metadata": {},
   "source": [
    "# 1. Imports"
   ]
  },
  {
   "cell_type": "markdown",
   "metadata": {},
   "source": [
    "## 1.1 Packages"
   ]
  },
  {
   "cell_type": "code",
   "execution_count": 1,
   "metadata": {},
   "outputs": [],
   "source": [
    "# Essential\n",
    "import os\n",
    "import sys\n",
    "import yaml\n",
    "\n",
    "# Data science\n",
    "import pandas as pd\n",
    "from sklearn.metrics import mean_squared_error\n",
    "\n",
    "# Plots\n",
    "import seaborn as sns"
   ]
  },
  {
   "cell_type": "code",
   "execution_count": 2,
   "metadata": {},
   "outputs": [],
   "source": [
    "sys.path.append('../src/nyc_taxi/pipelines/data_science')\n",
    "from feature_engineering import create_hour_feat\n",
    "from nodes import column_transformer, feature_imputer, pipe_estimator\n",
    "from log_model import log_hgbr_model"
   ]
  },
  {
   "cell_type": "markdown",
   "metadata": {},
   "source": [
    "## 1.2 Options"
   ]
  },
  {
   "cell_type": "code",
   "execution_count": 3,
   "metadata": {},
   "outputs": [],
   "source": [
    "# Pandas option\n",
    "pd.options.display.max_columns = 100\n",
    "\n",
    "# Plots option\n",
    "sns.set_style(\"white\")\n",
    "sns.set_color_codes(palette='deep')"
   ]
  },
  {
   "cell_type": "code",
   "execution_count": 4,
   "metadata": {},
   "outputs": [],
   "source": [
    "%load_ext autoreload\n",
    "%autoreload 2"
   ]
  },
  {
   "cell_type": "code",
   "execution_count": 5,
   "metadata": {},
   "outputs": [],
   "source": [
    "path_data = \"../data/03_primary\""
   ]
  },
  {
   "cell_type": "code",
   "execution_count": 6,
   "metadata": {},
   "outputs": [],
   "source": [
    "# Load credentials\n",
    "with open('../conf/local/credentials.yml') as file:\n",
    "    credentials_local = yaml.safe_load(file)"
   ]
  },
  {
   "cell_type": "markdown",
   "metadata": {},
   "source": [
    "## 1.3 Dataset"
   ]
  },
  {
   "cell_type": "code",
   "execution_count": 7,
   "metadata": {},
   "outputs": [],
   "source": [
    "df_train = pd.read_pickle(os.path.join(path_data, \"df_train.pkl\"))\n",
    "df_valid = pd.read_pickle(os.path.join(path_data, \"df_valid.pkl\"))"
   ]
  },
  {
   "cell_type": "markdown",
   "metadata": {},
   "source": [
    "# 2. Create model"
   ]
  },
  {
   "cell_type": "code",
   "execution_count": 8,
   "metadata": {},
   "outputs": [],
   "source": [
    "df_train = df_train.pipe(create_hour_feat, \"tpep_pickup_datetime\")\n",
    "df_valid = df_valid.pipe(create_hour_feat, \"tpep_pickup_datetime\")\n",
    "\n",
    "y_train = df_train[\"duration\"]\n",
    "y_valid = df_valid[\"duration\"]\n",
    "\n",
    "df_train.drop(columns=[\"duration\"], inplace=True)\n",
    "df_valid.drop(columns=[\"duration\"], inplace=True)"
   ]
  },
  {
   "cell_type": "code",
   "execution_count": 9,
   "metadata": {},
   "outputs": [
    {
     "data": {
      "text/html": [
       "<div>\n",
       "<style scoped>\n",
       "    .dataframe tbody tr th:only-of-type {\n",
       "        vertical-align: middle;\n",
       "    }\n",
       "\n",
       "    .dataframe tbody tr th {\n",
       "        vertical-align: top;\n",
       "    }\n",
       "\n",
       "    .dataframe thead th {\n",
       "        text-align: right;\n",
       "    }\n",
       "</style>\n",
       "<table border=\"1\" class=\"dataframe\">\n",
       "  <thead>\n",
       "    <tr style=\"text-align: right;\">\n",
       "      <th></th>\n",
       "      <th>VendorID</th>\n",
       "      <th>tpep_pickup_datetime</th>\n",
       "      <th>tpep_dropoff_datetime</th>\n",
       "      <th>passenger_count</th>\n",
       "      <th>trip_distance</th>\n",
       "      <th>RatecodeID</th>\n",
       "      <th>store_and_fwd_flag</th>\n",
       "      <th>PULocationID</th>\n",
       "      <th>DOLocationID</th>\n",
       "      <th>payment_type</th>\n",
       "      <th>fare_amount</th>\n",
       "      <th>extra</th>\n",
       "      <th>mta_tax</th>\n",
       "      <th>tip_amount</th>\n",
       "      <th>tolls_amount</th>\n",
       "      <th>improvement_surcharge</th>\n",
       "      <th>total_amount</th>\n",
       "      <th>congestion_surcharge</th>\n",
       "      <th>airport_fee</th>\n",
       "      <th>Airport_fee</th>\n",
       "      <th>tpep_pickup_datetime_hour</th>\n",
       "    </tr>\n",
       "  </thead>\n",
       "  <tbody>\n",
       "    <tr>\n",
       "      <th>751981</th>\n",
       "      <td>2.0</td>\n",
       "      <td>2023-02-08 16:47:36</td>\n",
       "      <td>2023-02-08 16:58:54</td>\n",
       "      <td>1.0</td>\n",
       "      <td>1.42</td>\n",
       "      <td>1.0</td>\n",
       "      <td>N</td>\n",
       "      <td>236.0</td>\n",
       "      <td>238.0</td>\n",
       "      <td>1.0</td>\n",
       "      <td>12.1</td>\n",
       "      <td>2.5</td>\n",
       "      <td>0.5</td>\n",
       "      <td>3.72</td>\n",
       "      <td>0.0</td>\n",
       "      <td>1.0</td>\n",
       "      <td>22.32</td>\n",
       "      <td>2.5</td>\n",
       "      <td>NaN</td>\n",
       "      <td>0.0</td>\n",
       "      <td>16</td>\n",
       "    </tr>\n",
       "    <tr>\n",
       "      <th>2967197</th>\n",
       "      <td>2.0</td>\n",
       "      <td>2023-01-31 18:25:20</td>\n",
       "      <td>2023-01-31 18:34:24</td>\n",
       "      <td>1.0</td>\n",
       "      <td>1.44</td>\n",
       "      <td>1.0</td>\n",
       "      <td>N</td>\n",
       "      <td>163.0</td>\n",
       "      <td>140.0</td>\n",
       "      <td>1.0</td>\n",
       "      <td>10.7</td>\n",
       "      <td>2.5</td>\n",
       "      <td>0.5</td>\n",
       "      <td>4.30</td>\n",
       "      <td>0.0</td>\n",
       "      <td>1.0</td>\n",
       "      <td>21.50</td>\n",
       "      <td>2.5</td>\n",
       "      <td>0.0</td>\n",
       "      <td>NaN</td>\n",
       "      <td>18</td>\n",
       "    </tr>\n",
       "    <tr>\n",
       "      <th>2983749</th>\n",
       "      <td>2.0</td>\n",
       "      <td>2023-01-31 21:54:48</td>\n",
       "      <td>2023-01-31 21:58:53</td>\n",
       "      <td>1.0</td>\n",
       "      <td>1.07</td>\n",
       "      <td>1.0</td>\n",
       "      <td>N</td>\n",
       "      <td>237.0</td>\n",
       "      <td>236.0</td>\n",
       "      <td>1.0</td>\n",
       "      <td>7.2</td>\n",
       "      <td>1.0</td>\n",
       "      <td>0.5</td>\n",
       "      <td>2.44</td>\n",
       "      <td>0.0</td>\n",
       "      <td>1.0</td>\n",
       "      <td>14.64</td>\n",
       "      <td>2.5</td>\n",
       "      <td>0.0</td>\n",
       "      <td>NaN</td>\n",
       "      <td>21</td>\n",
       "    </tr>\n",
       "    <tr>\n",
       "      <th>1734877</th>\n",
       "      <td>2.0</td>\n",
       "      <td>2023-01-19 14:58:45</td>\n",
       "      <td>2023-01-19 15:13:23</td>\n",
       "      <td>1.0</td>\n",
       "      <td>1.51</td>\n",
       "      <td>1.0</td>\n",
       "      <td>N</td>\n",
       "      <td>264.0</td>\n",
       "      <td>264.0</td>\n",
       "      <td>1.0</td>\n",
       "      <td>13.5</td>\n",
       "      <td>0.0</td>\n",
       "      <td>0.5</td>\n",
       "      <td>3.50</td>\n",
       "      <td>0.0</td>\n",
       "      <td>1.0</td>\n",
       "      <td>21.00</td>\n",
       "      <td>2.5</td>\n",
       "      <td>0.0</td>\n",
       "      <td>NaN</td>\n",
       "      <td>14</td>\n",
       "    </tr>\n",
       "    <tr>\n",
       "      <th>1131304</th>\n",
       "      <td>1.0</td>\n",
       "      <td>2023-02-11 23:17:59</td>\n",
       "      <td>2023-02-11 23:43:51</td>\n",
       "      <td>1.0</td>\n",
       "      <td>6.40</td>\n",
       "      <td>1.0</td>\n",
       "      <td>N</td>\n",
       "      <td>162.0</td>\n",
       "      <td>33.0</td>\n",
       "      <td>1.0</td>\n",
       "      <td>28.9</td>\n",
       "      <td>3.5</td>\n",
       "      <td>0.5</td>\n",
       "      <td>6.80</td>\n",
       "      <td>0.0</td>\n",
       "      <td>1.0</td>\n",
       "      <td>40.70</td>\n",
       "      <td>2.5</td>\n",
       "      <td>NaN</td>\n",
       "      <td>0.0</td>\n",
       "      <td>23</td>\n",
       "    </tr>\n",
       "  </tbody>\n",
       "</table>\n",
       "</div>"
      ],
      "text/plain": [
       "         VendorID tpep_pickup_datetime tpep_dropoff_datetime  passenger_count  \\\n",
       "751981        2.0  2023-02-08 16:47:36   2023-02-08 16:58:54              1.0   \n",
       "2967197       2.0  2023-01-31 18:25:20   2023-01-31 18:34:24              1.0   \n",
       "2983749       2.0  2023-01-31 21:54:48   2023-01-31 21:58:53              1.0   \n",
       "1734877       2.0  2023-01-19 14:58:45   2023-01-19 15:13:23              1.0   \n",
       "1131304       1.0  2023-02-11 23:17:59   2023-02-11 23:43:51              1.0   \n",
       "\n",
       "         trip_distance  RatecodeID store_and_fwd_flag  PULocationID  \\\n",
       "751981            1.42         1.0                  N         236.0   \n",
       "2967197           1.44         1.0                  N         163.0   \n",
       "2983749           1.07         1.0                  N         237.0   \n",
       "1734877           1.51         1.0                  N         264.0   \n",
       "1131304           6.40         1.0                  N         162.0   \n",
       "\n",
       "         DOLocationID  payment_type  fare_amount  extra  mta_tax  tip_amount  \\\n",
       "751981          238.0           1.0         12.1    2.5      0.5        3.72   \n",
       "2967197         140.0           1.0         10.7    2.5      0.5        4.30   \n",
       "2983749         236.0           1.0          7.2    1.0      0.5        2.44   \n",
       "1734877         264.0           1.0         13.5    0.0      0.5        3.50   \n",
       "1131304          33.0           1.0         28.9    3.5      0.5        6.80   \n",
       "\n",
       "         tolls_amount  improvement_surcharge  total_amount  \\\n",
       "751981            0.0                    1.0         22.32   \n",
       "2967197           0.0                    1.0         21.50   \n",
       "2983749           0.0                    1.0         14.64   \n",
       "1734877           0.0                    1.0         21.00   \n",
       "1131304           0.0                    1.0         40.70   \n",
       "\n",
       "         congestion_surcharge  airport_fee  Airport_fee  \\\n",
       "751981                    2.5          NaN          0.0   \n",
       "2967197                   2.5          0.0          NaN   \n",
       "2983749                   2.5          0.0          NaN   \n",
       "1734877                   2.5          0.0          NaN   \n",
       "1131304                   2.5          NaN          0.0   \n",
       "\n",
       "         tpep_pickup_datetime_hour  \n",
       "751981                          16  \n",
       "2967197                         18  \n",
       "2983749                         21  \n",
       "1734877                         14  \n",
       "1131304                         23  "
      ]
     },
     "execution_count": 9,
     "metadata": {},
     "output_type": "execute_result"
    }
   ],
   "source": [
    "df_train.sample(5)"
   ]
  },
  {
   "cell_type": "code",
   "execution_count": 10,
   "metadata": {},
   "outputs": [],
   "source": [
    "feat_cat = [\n",
    "    \"VendorID\", \"RatecodeID\", \"store_and_fwd_flag\", \"PULocationID\", \"DOLocationID\",\n",
    "    \"payment_type\",\n",
    "]"
   ]
  },
  {
   "cell_type": "code",
   "execution_count": 11,
   "metadata": {},
   "outputs": [],
   "source": [
    "col_transf = column_transformer()\n",
    "feat_imp = feature_imputer()\n",
    "\n",
    "params = {\n",
    "    \"loss\": 'squared_error',\n",
    "    \"learning_rate\": 0.05,\n",
    "    \"max_iter\": 1000,\n",
    "    \"max_depth\": 7,\n",
    "    \"categorical_features\": feat_cat,\n",
    "    \"random_state\": 12,\n",
    "}\n",
    "\n",
    "model = pipe_estimator(feat_imp=feat_imp, col_transf=col_transf, **params)"
   ]
  },
  {
   "cell_type": "code",
   "execution_count": 12,
   "metadata": {},
   "outputs": [
    {
     "data": {
      "text/html": [
       "<style>#sk-container-id-1 {color: black;}#sk-container-id-1 pre{padding: 0;}#sk-container-id-1 div.sk-toggleable {background-color: white;}#sk-container-id-1 label.sk-toggleable__label {cursor: pointer;display: block;width: 100%;margin-bottom: 0;padding: 0.3em;box-sizing: border-box;text-align: center;}#sk-container-id-1 label.sk-toggleable__label-arrow:before {content: \"▸\";float: left;margin-right: 0.25em;color: #696969;}#sk-container-id-1 label.sk-toggleable__label-arrow:hover:before {color: black;}#sk-container-id-1 div.sk-estimator:hover label.sk-toggleable__label-arrow:before {color: black;}#sk-container-id-1 div.sk-toggleable__content {max-height: 0;max-width: 0;overflow: hidden;text-align: left;background-color: #f0f8ff;}#sk-container-id-1 div.sk-toggleable__content pre {margin: 0.2em;color: black;border-radius: 0.25em;background-color: #f0f8ff;}#sk-container-id-1 input.sk-toggleable__control:checked~div.sk-toggleable__content {max-height: 200px;max-width: 100%;overflow: auto;}#sk-container-id-1 input.sk-toggleable__control:checked~label.sk-toggleable__label-arrow:before {content: \"▾\";}#sk-container-id-1 div.sk-estimator input.sk-toggleable__control:checked~label.sk-toggleable__label {background-color: #d4ebff;}#sk-container-id-1 div.sk-label input.sk-toggleable__control:checked~label.sk-toggleable__label {background-color: #d4ebff;}#sk-container-id-1 input.sk-hidden--visually {border: 0;clip: rect(1px 1px 1px 1px);clip: rect(1px, 1px, 1px, 1px);height: 1px;margin: -1px;overflow: hidden;padding: 0;position: absolute;width: 1px;}#sk-container-id-1 div.sk-estimator {font-family: monospace;background-color: #f0f8ff;border: 1px dotted black;border-radius: 0.25em;box-sizing: border-box;margin-bottom: 0.5em;}#sk-container-id-1 div.sk-estimator:hover {background-color: #d4ebff;}#sk-container-id-1 div.sk-parallel-item::after {content: \"\";width: 100%;border-bottom: 1px solid gray;flex-grow: 1;}#sk-container-id-1 div.sk-label:hover label.sk-toggleable__label {background-color: #d4ebff;}#sk-container-id-1 div.sk-serial::before {content: \"\";position: absolute;border-left: 1px solid gray;box-sizing: border-box;top: 0;bottom: 0;left: 50%;z-index: 0;}#sk-container-id-1 div.sk-serial {display: flex;flex-direction: column;align-items: center;background-color: white;padding-right: 0.2em;padding-left: 0.2em;position: relative;}#sk-container-id-1 div.sk-item {position: relative;z-index: 1;}#sk-container-id-1 div.sk-parallel {display: flex;align-items: stretch;justify-content: center;background-color: white;position: relative;}#sk-container-id-1 div.sk-item::before, #sk-container-id-1 div.sk-parallel-item::before {content: \"\";position: absolute;border-left: 1px solid gray;box-sizing: border-box;top: 0;bottom: 0;left: 50%;z-index: -1;}#sk-container-id-1 div.sk-parallel-item {display: flex;flex-direction: column;z-index: 1;position: relative;background-color: white;}#sk-container-id-1 div.sk-parallel-item:first-child::after {align-self: flex-end;width: 50%;}#sk-container-id-1 div.sk-parallel-item:last-child::after {align-self: flex-start;width: 50%;}#sk-container-id-1 div.sk-parallel-item:only-child::after {width: 0;}#sk-container-id-1 div.sk-dashed-wrapped {border: 1px dashed gray;margin: 0 0.4em 0.5em 0.4em;box-sizing: border-box;padding-bottom: 0.4em;background-color: white;}#sk-container-id-1 div.sk-label label {font-family: monospace;font-weight: bold;display: inline-block;line-height: 1.2em;}#sk-container-id-1 div.sk-label-container {text-align: center;}#sk-container-id-1 div.sk-container {/* jupyter's `normalize.less` sets `[hidden] { display: none; }` but bootstrap.min.css set `[hidden] { display: none !important; }` so we also need the `!important` here to be able to override the default hidden behavior on the sphinx rendered scikit-learn.org. See: https://github.com/scikit-learn/scikit-learn/issues/21755 */display: inline-block !important;position: relative;}#sk-container-id-1 div.sk-text-repr-fallback {display: none;}</style><div id=\"sk-container-id-1\" class=\"sk-top-container\"><div class=\"sk-text-repr-fallback\"><pre>Pipeline(steps=[(&#x27;feature_imp&#x27;,\n",
       "                 ColumnTransformer(transformers=[(&#x27;pass_count&#x27;,\n",
       "                                                  SimpleImputer(strategy=&#x27;median&#x27;),\n",
       "                                                  [&#x27;passenger_count&#x27;]),\n",
       "                                                 (&#x27;rate_code&#x27;,\n",
       "                                                  SimpleImputer(strategy=&#x27;most_frequent&#x27;),\n",
       "                                                  [&#x27;RatecodeID&#x27;]),\n",
       "                                                 (&#x27;store_flag&#x27;,\n",
       "                                                  SimpleImputer(strategy=&#x27;most_frequent&#x27;),\n",
       "                                                  [&#x27;store_and_fwd_flag&#x27;]),\n",
       "                                                 (&#x27;cong_surch&#x27;,\n",
       "                                                  SimpleImputer(strategy=&#x27;median&#x27;),\n",
       "                                                  [&#x27;congestion_surcharge&#x27;])...\n",
       "                                                  OrdinalEncoder(handle_unknown=&#x27;use_encoded_value&#x27;,\n",
       "                                                                 max_categories=255,\n",
       "                                                                 unknown_value=nan),\n",
       "                                                  [&#x27;PULocationID&#x27;,\n",
       "                                                   &#x27;DOLocationID&#x27;])],\n",
       "                                   verbose_feature_names_out=False)),\n",
       "                (&#x27;model&#x27;,\n",
       "                 HistGradientBoostingRegressor(categorical_features=[&#x27;VendorID&#x27;,\n",
       "                                                                     &#x27;RatecodeID&#x27;,\n",
       "                                                                     &#x27;store_and_fwd_flag&#x27;,\n",
       "                                                                     &#x27;PULocationID&#x27;,\n",
       "                                                                     &#x27;DOLocationID&#x27;,\n",
       "                                                                     &#x27;payment_type&#x27;],\n",
       "                                               learning_rate=0.05, max_depth=7,\n",
       "                                               max_iter=1000,\n",
       "                                               random_state=12))])</pre><b>In a Jupyter environment, please rerun this cell to show the HTML representation or trust the notebook. <br />On GitHub, the HTML representation is unable to render, please try loading this page with nbviewer.org.</b></div><div class=\"sk-container\" hidden><div class=\"sk-item sk-dashed-wrapped\"><div class=\"sk-label-container\"><div class=\"sk-label sk-toggleable\"><input class=\"sk-toggleable__control sk-hidden--visually\" id=\"sk-estimator-id-1\" type=\"checkbox\" ><label for=\"sk-estimator-id-1\" class=\"sk-toggleable__label sk-toggleable__label-arrow\">Pipeline</label><div class=\"sk-toggleable__content\"><pre>Pipeline(steps=[(&#x27;feature_imp&#x27;,\n",
       "                 ColumnTransformer(transformers=[(&#x27;pass_count&#x27;,\n",
       "                                                  SimpleImputer(strategy=&#x27;median&#x27;),\n",
       "                                                  [&#x27;passenger_count&#x27;]),\n",
       "                                                 (&#x27;rate_code&#x27;,\n",
       "                                                  SimpleImputer(strategy=&#x27;most_frequent&#x27;),\n",
       "                                                  [&#x27;RatecodeID&#x27;]),\n",
       "                                                 (&#x27;store_flag&#x27;,\n",
       "                                                  SimpleImputer(strategy=&#x27;most_frequent&#x27;),\n",
       "                                                  [&#x27;store_and_fwd_flag&#x27;]),\n",
       "                                                 (&#x27;cong_surch&#x27;,\n",
       "                                                  SimpleImputer(strategy=&#x27;median&#x27;),\n",
       "                                                  [&#x27;congestion_surcharge&#x27;])...\n",
       "                                                  OrdinalEncoder(handle_unknown=&#x27;use_encoded_value&#x27;,\n",
       "                                                                 max_categories=255,\n",
       "                                                                 unknown_value=nan),\n",
       "                                                  [&#x27;PULocationID&#x27;,\n",
       "                                                   &#x27;DOLocationID&#x27;])],\n",
       "                                   verbose_feature_names_out=False)),\n",
       "                (&#x27;model&#x27;,\n",
       "                 HistGradientBoostingRegressor(categorical_features=[&#x27;VendorID&#x27;,\n",
       "                                                                     &#x27;RatecodeID&#x27;,\n",
       "                                                                     &#x27;store_and_fwd_flag&#x27;,\n",
       "                                                                     &#x27;PULocationID&#x27;,\n",
       "                                                                     &#x27;DOLocationID&#x27;,\n",
       "                                                                     &#x27;payment_type&#x27;],\n",
       "                                               learning_rate=0.05, max_depth=7,\n",
       "                                               max_iter=1000,\n",
       "                                               random_state=12))])</pre></div></div></div><div class=\"sk-serial\"><div class=\"sk-item sk-dashed-wrapped\"><div class=\"sk-label-container\"><div class=\"sk-label sk-toggleable\"><input class=\"sk-toggleable__control sk-hidden--visually\" id=\"sk-estimator-id-2\" type=\"checkbox\" ><label for=\"sk-estimator-id-2\" class=\"sk-toggleable__label sk-toggleable__label-arrow\">feature_imp: ColumnTransformer</label><div class=\"sk-toggleable__content\"><pre>ColumnTransformer(transformers=[(&#x27;pass_count&#x27;, SimpleImputer(strategy=&#x27;median&#x27;),\n",
       "                                 [&#x27;passenger_count&#x27;]),\n",
       "                                (&#x27;rate_code&#x27;,\n",
       "                                 SimpleImputer(strategy=&#x27;most_frequent&#x27;),\n",
       "                                 [&#x27;RatecodeID&#x27;]),\n",
       "                                (&#x27;store_flag&#x27;,\n",
       "                                 SimpleImputer(strategy=&#x27;most_frequent&#x27;),\n",
       "                                 [&#x27;store_and_fwd_flag&#x27;]),\n",
       "                                (&#x27;cong_surch&#x27;, SimpleImputer(strategy=&#x27;median&#x27;),\n",
       "                                 [&#x27;congestion_surcharge&#x27;]),\n",
       "                                (&#x27;air_fee&#x27;,\n",
       "                                 SimpleImputer(strategy=&#x27;most_frequent&#x27;),\n",
       "                                 [&#x27;airport_fee&#x27;]),\n",
       "                                (&#x27;passthrough_cols&#x27;, &#x27;passthrough&#x27;,\n",
       "                                 [&#x27;VendorID&#x27;, &#x27;trip_distance&#x27;, &#x27;PULocationID&#x27;,\n",
       "                                  &#x27;DOLocationID&#x27;, &#x27;payment_type&#x27;, &#x27;fare_amount&#x27;,\n",
       "                                  &#x27;extra&#x27;, &#x27;mta_tax&#x27;, &#x27;tip_amount&#x27;,\n",
       "                                  &#x27;tolls_amount&#x27;, &#x27;improvement_surcharge&#x27;,\n",
       "                                  &#x27;total_amount&#x27;,\n",
       "                                  &#x27;tpep_pickup_datetime_hour&#x27;])],\n",
       "                  verbose_feature_names_out=False)</pre></div></div></div><div class=\"sk-parallel\"><div class=\"sk-parallel-item\"><div class=\"sk-item\"><div class=\"sk-label-container\"><div class=\"sk-label sk-toggleable\"><input class=\"sk-toggleable__control sk-hidden--visually\" id=\"sk-estimator-id-3\" type=\"checkbox\" ><label for=\"sk-estimator-id-3\" class=\"sk-toggleable__label sk-toggleable__label-arrow\">pass_count</label><div class=\"sk-toggleable__content\"><pre>[&#x27;passenger_count&#x27;]</pre></div></div></div><div class=\"sk-serial\"><div class=\"sk-item\"><div class=\"sk-estimator sk-toggleable\"><input class=\"sk-toggleable__control sk-hidden--visually\" id=\"sk-estimator-id-4\" type=\"checkbox\" ><label for=\"sk-estimator-id-4\" class=\"sk-toggleable__label sk-toggleable__label-arrow\">SimpleImputer</label><div class=\"sk-toggleable__content\"><pre>SimpleImputer(strategy=&#x27;median&#x27;)</pre></div></div></div></div></div></div><div class=\"sk-parallel-item\"><div class=\"sk-item\"><div class=\"sk-label-container\"><div class=\"sk-label sk-toggleable\"><input class=\"sk-toggleable__control sk-hidden--visually\" id=\"sk-estimator-id-5\" type=\"checkbox\" ><label for=\"sk-estimator-id-5\" class=\"sk-toggleable__label sk-toggleable__label-arrow\">rate_code</label><div class=\"sk-toggleable__content\"><pre>[&#x27;RatecodeID&#x27;]</pre></div></div></div><div class=\"sk-serial\"><div class=\"sk-item\"><div class=\"sk-estimator sk-toggleable\"><input class=\"sk-toggleable__control sk-hidden--visually\" id=\"sk-estimator-id-6\" type=\"checkbox\" ><label for=\"sk-estimator-id-6\" class=\"sk-toggleable__label sk-toggleable__label-arrow\">SimpleImputer</label><div class=\"sk-toggleable__content\"><pre>SimpleImputer(strategy=&#x27;most_frequent&#x27;)</pre></div></div></div></div></div></div><div class=\"sk-parallel-item\"><div class=\"sk-item\"><div class=\"sk-label-container\"><div class=\"sk-label sk-toggleable\"><input class=\"sk-toggleable__control sk-hidden--visually\" id=\"sk-estimator-id-7\" type=\"checkbox\" ><label for=\"sk-estimator-id-7\" class=\"sk-toggleable__label sk-toggleable__label-arrow\">store_flag</label><div class=\"sk-toggleable__content\"><pre>[&#x27;store_and_fwd_flag&#x27;]</pre></div></div></div><div class=\"sk-serial\"><div class=\"sk-item\"><div class=\"sk-estimator sk-toggleable\"><input class=\"sk-toggleable__control sk-hidden--visually\" id=\"sk-estimator-id-8\" type=\"checkbox\" ><label for=\"sk-estimator-id-8\" class=\"sk-toggleable__label sk-toggleable__label-arrow\">SimpleImputer</label><div class=\"sk-toggleable__content\"><pre>SimpleImputer(strategy=&#x27;most_frequent&#x27;)</pre></div></div></div></div></div></div><div class=\"sk-parallel-item\"><div class=\"sk-item\"><div class=\"sk-label-container\"><div class=\"sk-label sk-toggleable\"><input class=\"sk-toggleable__control sk-hidden--visually\" id=\"sk-estimator-id-9\" type=\"checkbox\" ><label for=\"sk-estimator-id-9\" class=\"sk-toggleable__label sk-toggleable__label-arrow\">cong_surch</label><div class=\"sk-toggleable__content\"><pre>[&#x27;congestion_surcharge&#x27;]</pre></div></div></div><div class=\"sk-serial\"><div class=\"sk-item\"><div class=\"sk-estimator sk-toggleable\"><input class=\"sk-toggleable__control sk-hidden--visually\" id=\"sk-estimator-id-10\" type=\"checkbox\" ><label for=\"sk-estimator-id-10\" class=\"sk-toggleable__label sk-toggleable__label-arrow\">SimpleImputer</label><div class=\"sk-toggleable__content\"><pre>SimpleImputer(strategy=&#x27;median&#x27;)</pre></div></div></div></div></div></div><div class=\"sk-parallel-item\"><div class=\"sk-item\"><div class=\"sk-label-container\"><div class=\"sk-label sk-toggleable\"><input class=\"sk-toggleable__control sk-hidden--visually\" id=\"sk-estimator-id-11\" type=\"checkbox\" ><label for=\"sk-estimator-id-11\" class=\"sk-toggleable__label sk-toggleable__label-arrow\">air_fee</label><div class=\"sk-toggleable__content\"><pre>[&#x27;airport_fee&#x27;]</pre></div></div></div><div class=\"sk-serial\"><div class=\"sk-item\"><div class=\"sk-estimator sk-toggleable\"><input class=\"sk-toggleable__control sk-hidden--visually\" id=\"sk-estimator-id-12\" type=\"checkbox\" ><label for=\"sk-estimator-id-12\" class=\"sk-toggleable__label sk-toggleable__label-arrow\">SimpleImputer</label><div class=\"sk-toggleable__content\"><pre>SimpleImputer(strategy=&#x27;most_frequent&#x27;)</pre></div></div></div></div></div></div><div class=\"sk-parallel-item\"><div class=\"sk-item\"><div class=\"sk-label-container\"><div class=\"sk-label sk-toggleable\"><input class=\"sk-toggleable__control sk-hidden--visually\" id=\"sk-estimator-id-13\" type=\"checkbox\" ><label for=\"sk-estimator-id-13\" class=\"sk-toggleable__label sk-toggleable__label-arrow\">passthrough_cols</label><div class=\"sk-toggleable__content\"><pre>[&#x27;VendorID&#x27;, &#x27;trip_distance&#x27;, &#x27;PULocationID&#x27;, &#x27;DOLocationID&#x27;, &#x27;payment_type&#x27;, &#x27;fare_amount&#x27;, &#x27;extra&#x27;, &#x27;mta_tax&#x27;, &#x27;tip_amount&#x27;, &#x27;tolls_amount&#x27;, &#x27;improvement_surcharge&#x27;, &#x27;total_amount&#x27;, &#x27;tpep_pickup_datetime_hour&#x27;]</pre></div></div></div><div class=\"sk-serial\"><div class=\"sk-item\"><div class=\"sk-estimator sk-toggleable\"><input class=\"sk-toggleable__control sk-hidden--visually\" id=\"sk-estimator-id-14\" type=\"checkbox\" ><label for=\"sk-estimator-id-14\" class=\"sk-toggleable__label sk-toggleable__label-arrow\">passthrough</label><div class=\"sk-toggleable__content\"><pre>passthrough</pre></div></div></div></div></div></div></div></div><div class=\"sk-item sk-dashed-wrapped\"><div class=\"sk-label-container\"><div class=\"sk-label sk-toggleable\"><input class=\"sk-toggleable__control sk-hidden--visually\" id=\"sk-estimator-id-15\" type=\"checkbox\" ><label for=\"sk-estimator-id-15\" class=\"sk-toggleable__label sk-toggleable__label-arrow\">column_transf: ColumnTransformer</label><div class=\"sk-toggleable__content\"><pre>ColumnTransformer(remainder=&#x27;passthrough&#x27;,\n",
       "                  transformers=[(&#x27;hour_spline&#x27;,\n",
       "                                 SplineTransformer(extrapolation=&#x27;periodic&#x27;,\n",
       "                                                   knots=array([[ 0.],\n",
       "       [ 2.],\n",
       "       [ 4.],\n",
       "       [ 6.],\n",
       "       [ 8.],\n",
       "       [10.],\n",
       "       [12.],\n",
       "       [14.],\n",
       "       [16.],\n",
       "       [18.],\n",
       "       [20.],\n",
       "       [22.],\n",
       "       [24.]]),\n",
       "                                                   n_knots=13),\n",
       "                                 [&#x27;tpep_pickup_datetime_hour&#x27;]),\n",
       "                                (&#x27;ordinal_enc&#x27;,\n",
       "                                 OrdinalEncoder(handle_unknown=&#x27;use_encoded_value&#x27;,\n",
       "                                                unknown_value=nan),\n",
       "                                 [&#x27;store_and_fwd_flag&#x27;]),\n",
       "                                (&#x27;ordinal_enc_max&#x27;,\n",
       "                                 OrdinalEncoder(handle_unknown=&#x27;use_encoded_value&#x27;,\n",
       "                                                max_categories=255,\n",
       "                                                unknown_value=nan),\n",
       "                                 [&#x27;PULocationID&#x27;, &#x27;DOLocationID&#x27;])],\n",
       "                  verbose_feature_names_out=False)</pre></div></div></div><div class=\"sk-parallel\"><div class=\"sk-parallel-item\"><div class=\"sk-item\"><div class=\"sk-label-container\"><div class=\"sk-label sk-toggleable\"><input class=\"sk-toggleable__control sk-hidden--visually\" id=\"sk-estimator-id-16\" type=\"checkbox\" ><label for=\"sk-estimator-id-16\" class=\"sk-toggleable__label sk-toggleable__label-arrow\">hour_spline</label><div class=\"sk-toggleable__content\"><pre>[&#x27;tpep_pickup_datetime_hour&#x27;]</pre></div></div></div><div class=\"sk-serial\"><div class=\"sk-item\"><div class=\"sk-estimator sk-toggleable\"><input class=\"sk-toggleable__control sk-hidden--visually\" id=\"sk-estimator-id-17\" type=\"checkbox\" ><label for=\"sk-estimator-id-17\" class=\"sk-toggleable__label sk-toggleable__label-arrow\">SplineTransformer</label><div class=\"sk-toggleable__content\"><pre>SplineTransformer(extrapolation=&#x27;periodic&#x27;,\n",
       "                  knots=array([[ 0.],\n",
       "       [ 2.],\n",
       "       [ 4.],\n",
       "       [ 6.],\n",
       "       [ 8.],\n",
       "       [10.],\n",
       "       [12.],\n",
       "       [14.],\n",
       "       [16.],\n",
       "       [18.],\n",
       "       [20.],\n",
       "       [22.],\n",
       "       [24.]]),\n",
       "                  n_knots=13)</pre></div></div></div></div></div></div><div class=\"sk-parallel-item\"><div class=\"sk-item\"><div class=\"sk-label-container\"><div class=\"sk-label sk-toggleable\"><input class=\"sk-toggleable__control sk-hidden--visually\" id=\"sk-estimator-id-18\" type=\"checkbox\" ><label for=\"sk-estimator-id-18\" class=\"sk-toggleable__label sk-toggleable__label-arrow\">ordinal_enc</label><div class=\"sk-toggleable__content\"><pre>[&#x27;store_and_fwd_flag&#x27;]</pre></div></div></div><div class=\"sk-serial\"><div class=\"sk-item\"><div class=\"sk-estimator sk-toggleable\"><input class=\"sk-toggleable__control sk-hidden--visually\" id=\"sk-estimator-id-19\" type=\"checkbox\" ><label for=\"sk-estimator-id-19\" class=\"sk-toggleable__label sk-toggleable__label-arrow\">OrdinalEncoder</label><div class=\"sk-toggleable__content\"><pre>OrdinalEncoder(handle_unknown=&#x27;use_encoded_value&#x27;, unknown_value=nan)</pre></div></div></div></div></div></div><div class=\"sk-parallel-item\"><div class=\"sk-item\"><div class=\"sk-label-container\"><div class=\"sk-label sk-toggleable\"><input class=\"sk-toggleable__control sk-hidden--visually\" id=\"sk-estimator-id-20\" type=\"checkbox\" ><label for=\"sk-estimator-id-20\" class=\"sk-toggleable__label sk-toggleable__label-arrow\">ordinal_enc_max</label><div class=\"sk-toggleable__content\"><pre>[&#x27;PULocationID&#x27;, &#x27;DOLocationID&#x27;]</pre></div></div></div><div class=\"sk-serial\"><div class=\"sk-item\"><div class=\"sk-estimator sk-toggleable\"><input class=\"sk-toggleable__control sk-hidden--visually\" id=\"sk-estimator-id-21\" type=\"checkbox\" ><label for=\"sk-estimator-id-21\" class=\"sk-toggleable__label sk-toggleable__label-arrow\">OrdinalEncoder</label><div class=\"sk-toggleable__content\"><pre>OrdinalEncoder(handle_unknown=&#x27;use_encoded_value&#x27;, max_categories=255,\n",
       "               unknown_value=nan)</pre></div></div></div></div></div></div><div class=\"sk-parallel-item\"><div class=\"sk-item\"><div class=\"sk-label-container\"><div class=\"sk-label sk-toggleable\"><input class=\"sk-toggleable__control sk-hidden--visually\" id=\"sk-estimator-id-22\" type=\"checkbox\" ><label for=\"sk-estimator-id-22\" class=\"sk-toggleable__label sk-toggleable__label-arrow\">remainder</label><div class=\"sk-toggleable__content\"><pre>[&#x27;passenger_count&#x27;, &#x27;RatecodeID&#x27;, &#x27;congestion_surcharge&#x27;, &#x27;airport_fee&#x27;, &#x27;VendorID&#x27;, &#x27;trip_distance&#x27;, &#x27;payment_type&#x27;, &#x27;fare_amount&#x27;, &#x27;extra&#x27;, &#x27;mta_tax&#x27;, &#x27;tip_amount&#x27;, &#x27;tolls_amount&#x27;, &#x27;improvement_surcharge&#x27;, &#x27;total_amount&#x27;]</pre></div></div></div><div class=\"sk-serial\"><div class=\"sk-item\"><div class=\"sk-estimator sk-toggleable\"><input class=\"sk-toggleable__control sk-hidden--visually\" id=\"sk-estimator-id-23\" type=\"checkbox\" ><label for=\"sk-estimator-id-23\" class=\"sk-toggleable__label sk-toggleable__label-arrow\">passthrough</label><div class=\"sk-toggleable__content\"><pre>passthrough</pre></div></div></div></div></div></div></div></div><div class=\"sk-item\"><div class=\"sk-estimator sk-toggleable\"><input class=\"sk-toggleable__control sk-hidden--visually\" id=\"sk-estimator-id-24\" type=\"checkbox\" ><label for=\"sk-estimator-id-24\" class=\"sk-toggleable__label sk-toggleable__label-arrow\">HistGradientBoostingRegressor</label><div class=\"sk-toggleable__content\"><pre>HistGradientBoostingRegressor(categorical_features=[&#x27;VendorID&#x27;, &#x27;RatecodeID&#x27;,\n",
       "                                                    &#x27;store_and_fwd_flag&#x27;,\n",
       "                                                    &#x27;PULocationID&#x27;,\n",
       "                                                    &#x27;DOLocationID&#x27;,\n",
       "                                                    &#x27;payment_type&#x27;],\n",
       "                              learning_rate=0.05, max_depth=7, max_iter=1000,\n",
       "                              random_state=12)</pre></div></div></div></div></div></div></div>"
      ],
      "text/plain": [
       "Pipeline(steps=[('feature_imp',\n",
       "                 ColumnTransformer(transformers=[('pass_count',\n",
       "                                                  SimpleImputer(strategy='median'),\n",
       "                                                  ['passenger_count']),\n",
       "                                                 ('rate_code',\n",
       "                                                  SimpleImputer(strategy='most_frequent'),\n",
       "                                                  ['RatecodeID']),\n",
       "                                                 ('store_flag',\n",
       "                                                  SimpleImputer(strategy='most_frequent'),\n",
       "                                                  ['store_and_fwd_flag']),\n",
       "                                                 ('cong_surch',\n",
       "                                                  SimpleImputer(strategy='median'),\n",
       "                                                  ['congestion_surcharge'])...\n",
       "                                                  OrdinalEncoder(handle_unknown='use_encoded_value',\n",
       "                                                                 max_categories=255,\n",
       "                                                                 unknown_value=nan),\n",
       "                                                  ['PULocationID',\n",
       "                                                   'DOLocationID'])],\n",
       "                                   verbose_feature_names_out=False)),\n",
       "                ('model',\n",
       "                 HistGradientBoostingRegressor(categorical_features=['VendorID',\n",
       "                                                                     'RatecodeID',\n",
       "                                                                     'store_and_fwd_flag',\n",
       "                                                                     'PULocationID',\n",
       "                                                                     'DOLocationID',\n",
       "                                                                     'payment_type'],\n",
       "                                               learning_rate=0.05, max_depth=7,\n",
       "                                               max_iter=1000,\n",
       "                                               random_state=12))])"
      ]
     },
     "execution_count": 12,
     "metadata": {},
     "output_type": "execute_result"
    }
   ],
   "source": [
    "model.fit(df_train, y_train)"
   ]
  },
  {
   "cell_type": "code",
   "execution_count": 13,
   "metadata": {},
   "outputs": [],
   "source": [
    "pred_train = model.predict(df_train)\n",
    "pred_valid = model.predict(df_valid)"
   ]
  },
  {
   "cell_type": "code",
   "execution_count": 14,
   "metadata": {},
   "outputs": [
    {
     "name": "stdout",
     "output_type": "stream",
     "text": [
      "RMSE train: 2448.81495014428\n",
      "RMSE valid: 2516.9346805301047\n"
     ]
    }
   ],
   "source": [
    "rmse_train = mean_squared_error(y_true=y_train, y_pred=pred_train, squared=False)\n",
    "rmse_valid = mean_squared_error(y_true=y_valid, y_pred=pred_valid, squared=False)\n",
    "print(\"RMSE train:\", rmse_train)\n",
    "print(\"RMSE valid:\", rmse_valid)"
   ]
  },
  {
   "cell_type": "code",
   "execution_count": 15,
   "metadata": {},
   "outputs": [],
   "source": [
    "metrics = {\n",
    "    \"RMSE_train\": rmse_train,\n",
    "    \"RMSE_valid\": rmse_valid\n",
    "}"
   ]
  },
  {
   "cell_type": "code",
   "execution_count": 16,
   "metadata": {},
   "outputs": [
    {
     "name": "stderr",
     "output_type": "stream",
     "text": [
      "\u001b[1;38;5;214mCOMET WARNING:\u001b[0m To get all data logged automatically, import comet_ml before the following modules: sklearn.\n",
      "\u001b[1;38;5;214mCOMET WARNING:\u001b[0m As you are running in a Jupyter environment, you will need to call `experiment.end()` when finished to ensure all metrics and code are logged before exiting.\n"
     ]
    },
    {
     "name": "stderr",
     "output_type": "stream",
     "text": [
      "\u001b[1;38;5;39mCOMET INFO:\u001b[0m Experiment is live on comet.com https://www.comet.com/bwallyn/nyc-taxi-trip/7c1beb2412f24b65acddfb3695d1e61e\n",
      "\n",
      "\u001b[1;38;5;39mCOMET INFO:\u001b[0m ---------------------------------------------------------------------------------------\n",
      "\u001b[1;38;5;39mCOMET INFO:\u001b[0m Comet.ml Experiment Summary\n",
      "\u001b[1;38;5;39mCOMET INFO:\u001b[0m ---------------------------------------------------------------------------------------\n",
      "\u001b[1;38;5;39mCOMET INFO:\u001b[0m   Data:\n",
      "\u001b[1;38;5;39mCOMET INFO:\u001b[0m     display_summary_level : 1\n",
      "\u001b[1;38;5;39mCOMET INFO:\u001b[0m     url                   : https://www.comet.com/bwallyn/nyc-taxi-trip/7c1beb2412f24b65acddfb3695d1e61e\n",
      "\u001b[1;38;5;39mCOMET INFO:\u001b[0m   Metrics:\n",
      "\u001b[1;38;5;39mCOMET INFO:\u001b[0m     RMSE_train : 2448.81495014428\n",
      "\u001b[1;38;5;39mCOMET INFO:\u001b[0m     RMSE_valid : 2516.9346805301047\n",
      "\u001b[1;38;5;39mCOMET INFO:\u001b[0m   Parameters:\n",
      "\u001b[1;38;5;39mCOMET INFO:\u001b[0m     categorical_features : ['VendorID', 'RatecodeID', 'store_and_fwd_flag', 'PULocationID', 'DOLocationID', 'payment_type']\n",
      "\u001b[1;38;5;39mCOMET INFO:\u001b[0m     learning_rate        : 0.05\n",
      "\u001b[1;38;5;39mCOMET INFO:\u001b[0m     loss                 : squared_error\n",
      "\u001b[1;38;5;39mCOMET INFO:\u001b[0m     max_depth            : 7\n",
      "\u001b[1;38;5;39mCOMET INFO:\u001b[0m     max_iter             : 1000\n",
      "\u001b[1;38;5;39mCOMET INFO:\u001b[0m     random_state         : 12\n",
      "\u001b[1;38;5;39mCOMET INFO:\u001b[0m   Uploads:\n",
      "\u001b[1;38;5;39mCOMET INFO:\u001b[0m     conda-environment-definition : 1\n",
      "\u001b[1;38;5;39mCOMET INFO:\u001b[0m     conda-info                   : 1\n",
      "\u001b[1;38;5;39mCOMET INFO:\u001b[0m     conda-specification          : 1\n",
      "\u001b[1;38;5;39mCOMET INFO:\u001b[0m     environment details          : 1\n",
      "\u001b[1;38;5;39mCOMET INFO:\u001b[0m     filename                     : 1\n",
      "\u001b[1;38;5;39mCOMET INFO:\u001b[0m     git metadata                 : 1\n",
      "\u001b[1;38;5;39mCOMET INFO:\u001b[0m     git-patch (uncompressed)     : 1 (55.50 KB)\n",
      "\u001b[1;38;5;39mCOMET INFO:\u001b[0m     installed packages           : 1\n",
      "\u001b[1;38;5;39mCOMET INFO:\u001b[0m     model-element                : 2 (1.32 MB)\n",
      "\u001b[1;38;5;39mCOMET INFO:\u001b[0m     notebook                     : 1\n",
      "\u001b[1;38;5;39mCOMET INFO:\u001b[0m     source_code                  : 1\n",
      "\u001b[1;38;5;39mCOMET INFO:\u001b[0m \n",
      "\u001b[1;38;5;214mCOMET WARNING:\u001b[0m To get all data logged automatically, import comet_ml before the following modules: sklearn.\n"
     ]
    }
   ],
   "source": [
    "# Load model to comet\n",
    "log_hgbr_model(api_key=credentials_local['api_key'], params=params, metrics=metrics, model=model, model_name=\"HistGradientBoostingRegressor_model\")"
   ]
  },
  {
   "cell_type": "code",
   "execution_count": 17,
   "metadata": {},
   "outputs": [
    {
     "data": {
      "text/plain": [
       "array([ 599.77910924,  401.76508085,  809.93402149, ..., 2260.13100917,\n",
       "       1013.42493027, 3972.34091828])"
      ]
     },
     "execution_count": 17,
     "metadata": {},
     "output_type": "execute_result"
    }
   ],
   "source": [
    "pred_train"
   ]
  },
  {
   "cell_type": "code",
   "execution_count": 18,
   "metadata": {},
   "outputs": [
    {
     "data": {
      "text/plain": [
       "0            506.0\n",
       "1            379.0\n",
       "2            765.0\n",
       "3            577.0\n",
       "4            650.0\n",
       "            ...   \n",
       "2932889    57176.0\n",
       "3033658      535.0\n",
       "3040040     2549.0\n",
       "3133953      885.0\n",
       "3139871    43995.0\n",
       "Name: duration, Length: 5980791, dtype: float64"
      ]
     },
     "execution_count": 18,
     "metadata": {},
     "output_type": "execute_result"
    }
   ],
   "source": [
    "y_train"
   ]
  },
  {
   "cell_type": "code",
   "execution_count": null,
   "metadata": {},
   "outputs": [],
   "source": []
  }
 ],
 "metadata": {
  "kernelspec": {
   "display_name": "nyc-taxi",
   "language": "python",
   "name": "python3"
  },
  "language_info": {
   "codemirror_mode": {
    "name": "ipython",
    "version": 3
   },
   "file_extension": ".py",
   "mimetype": "text/x-python",
   "name": "python",
   "nbconvert_exporter": "python",
   "pygments_lexer": "ipython3",
   "version": "3.10.13"
  }
 },
 "nbformat": 4,
 "nbformat_minor": 2
}
