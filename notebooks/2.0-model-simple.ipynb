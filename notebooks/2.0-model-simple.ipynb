{
 "cells": [
  {
   "cell_type": "markdown",
   "metadata": {},
   "source": [
    "# Create model"
   ]
  },
  {
   "cell_type": "markdown",
   "metadata": {},
   "source": [
    "# 1. Imports"
   ]
  },
  {
   "cell_type": "markdown",
   "metadata": {},
   "source": [
    "## 1.1 Packages"
   ]
  },
  {
   "cell_type": "code",
   "execution_count": 1,
   "metadata": {},
   "outputs": [],
   "source": [
    "# Essential\n",
    "import os\n",
    "import sys\n",
    "\n",
    "# Data science\n",
    "import numpy as np\n",
    "import pandas as pd\n",
    "from sklearn.metrics import mean_squared_error\n",
    "\n",
    "# Plots\n",
    "import seaborn as sns"
   ]
  },
  {
   "cell_type": "code",
   "execution_count": 2,
   "metadata": {},
   "outputs": [],
   "source": [
    "sys.path.append('../src/nyc_taxi/pipelines/data_science')"
   ]
  },
  {
   "cell_type": "markdown",
   "metadata": {},
   "source": [
    "## 1.2 Options"
   ]
  },
  {
   "cell_type": "code",
   "execution_count": 3,
   "metadata": {},
   "outputs": [],
   "source": [
    "# Pandas option\n",
    "pd.options.display.max_columns = 100\n",
    "\n",
    "# Plots option\n",
    "sns.set_style(\"white\")\n",
    "sns.set_color_codes(palette='deep')"
   ]
  },
  {
   "cell_type": "code",
   "execution_count": 4,
   "metadata": {},
   "outputs": [],
   "source": [
    "%load_ext autoreload\n",
    "%autoreload 2"
   ]
  },
  {
   "cell_type": "code",
   "execution_count": 5,
   "metadata": {},
   "outputs": [],
   "source": [
    "path_data = \"../data/03_primary\""
   ]
  },
  {
   "cell_type": "markdown",
   "metadata": {},
   "source": [
    "## 1.3 Dataset"
   ]
  },
  {
   "cell_type": "code",
   "execution_count": 6,
   "metadata": {},
   "outputs": [],
   "source": [
    "df_train = pd.read_pickle(os.path.join(path_data, \"df_train.pkl\"))\n",
    "df_valid = pd.read_pickle(os.path.join(path_data, \"df_valid.pkl\"))"
   ]
  },
  {
   "cell_type": "markdown",
   "metadata": {},
   "source": [
    "# 2. Create model"
   ]
  },
  {
   "cell_type": "code",
   "execution_count": 7,
   "metadata": {},
   "outputs": [],
   "source": [
    "y_train = df_train[\"duration\"]\n",
    "y_valid = df_valid[\"duration\"]\n",
    "\n",
    "df_train.drop(columns=[\"duration\"], inplace=True)\n",
    "df_valid.drop(columns=[\"duration\"], inplace=True)"
   ]
  },
  {
   "cell_type": "code",
   "execution_count": 8,
   "metadata": {},
   "outputs": [
    {
     "data": {
      "text/html": [
       "<div>\n",
       "<style scoped>\n",
       "    .dataframe tbody tr th:only-of-type {\n",
       "        vertical-align: middle;\n",
       "    }\n",
       "\n",
       "    .dataframe tbody tr th {\n",
       "        vertical-align: top;\n",
       "    }\n",
       "\n",
       "    .dataframe thead th {\n",
       "        text-align: right;\n",
       "    }\n",
       "</style>\n",
       "<table border=\"1\" class=\"dataframe\">\n",
       "  <thead>\n",
       "    <tr style=\"text-align: right;\">\n",
       "      <th></th>\n",
       "      <th>VendorID</th>\n",
       "      <th>tpep_pickup_datetime</th>\n",
       "      <th>tpep_dropoff_datetime</th>\n",
       "      <th>passenger_count</th>\n",
       "      <th>trip_distance</th>\n",
       "      <th>RatecodeID</th>\n",
       "      <th>store_and_fwd_flag</th>\n",
       "      <th>PULocationID</th>\n",
       "      <th>DOLocationID</th>\n",
       "      <th>payment_type</th>\n",
       "      <th>fare_amount</th>\n",
       "      <th>extra</th>\n",
       "      <th>mta_tax</th>\n",
       "      <th>tip_amount</th>\n",
       "      <th>tolls_amount</th>\n",
       "      <th>improvement_surcharge</th>\n",
       "      <th>total_amount</th>\n",
       "      <th>congestion_surcharge</th>\n",
       "      <th>airport_fee</th>\n",
       "      <th>Airport_fee</th>\n",
       "    </tr>\n",
       "  </thead>\n",
       "  <tbody>\n",
       "    <tr>\n",
       "      <th>1608303</th>\n",
       "      <td>2.0</td>\n",
       "      <td>2023-02-16 18:12:40</td>\n",
       "      <td>2023-02-16 18:30:21</td>\n",
       "      <td>1.0</td>\n",
       "      <td>2.22</td>\n",
       "      <td>1.0</td>\n",
       "      <td>N</td>\n",
       "      <td>170.0</td>\n",
       "      <td>114.0</td>\n",
       "      <td>1.0</td>\n",
       "      <td>17.0</td>\n",
       "      <td>2.5</td>\n",
       "      <td>0.5</td>\n",
       "      <td>4.70</td>\n",
       "      <td>0.0</td>\n",
       "      <td>1.0</td>\n",
       "      <td>28.20</td>\n",
       "      <td>2.5</td>\n",
       "      <td>NaN</td>\n",
       "      <td>0.0</td>\n",
       "    </tr>\n",
       "    <tr>\n",
       "      <th>1850443</th>\n",
       "      <td>2.0</td>\n",
       "      <td>2023-01-20 15:36:21</td>\n",
       "      <td>2023-01-20 15:53:45</td>\n",
       "      <td>1.0</td>\n",
       "      <td>2.58</td>\n",
       "      <td>1.0</td>\n",
       "      <td>N</td>\n",
       "      <td>230.0</td>\n",
       "      <td>43.0</td>\n",
       "      <td>1.0</td>\n",
       "      <td>17.7</td>\n",
       "      <td>0.0</td>\n",
       "      <td>0.5</td>\n",
       "      <td>2.00</td>\n",
       "      <td>0.0</td>\n",
       "      <td>1.0</td>\n",
       "      <td>23.70</td>\n",
       "      <td>2.5</td>\n",
       "      <td>0.0</td>\n",
       "      <td>NaN</td>\n",
       "    </tr>\n",
       "    <tr>\n",
       "      <th>1354948</th>\n",
       "      <td>1.0</td>\n",
       "      <td>2023-01-15 14:43:54</td>\n",
       "      <td>2023-01-15 14:54:02</td>\n",
       "      <td>1.0</td>\n",
       "      <td>1.30</td>\n",
       "      <td>1.0</td>\n",
       "      <td>N</td>\n",
       "      <td>100.0</td>\n",
       "      <td>230.0</td>\n",
       "      <td>1.0</td>\n",
       "      <td>10.7</td>\n",
       "      <td>2.5</td>\n",
       "      <td>0.5</td>\n",
       "      <td>1.50</td>\n",
       "      <td>0.0</td>\n",
       "      <td>1.0</td>\n",
       "      <td>16.20</td>\n",
       "      <td>2.5</td>\n",
       "      <td>0.0</td>\n",
       "      <td>NaN</td>\n",
       "    </tr>\n",
       "    <tr>\n",
       "      <th>1823241</th>\n",
       "      <td>2.0</td>\n",
       "      <td>2023-02-18 18:43:40</td>\n",
       "      <td>2023-02-18 18:47:45</td>\n",
       "      <td>1.0</td>\n",
       "      <td>0.58</td>\n",
       "      <td>1.0</td>\n",
       "      <td>N</td>\n",
       "      <td>236.0</td>\n",
       "      <td>236.0</td>\n",
       "      <td>1.0</td>\n",
       "      <td>5.8</td>\n",
       "      <td>0.0</td>\n",
       "      <td>0.5</td>\n",
       "      <td>1.25</td>\n",
       "      <td>0.0</td>\n",
       "      <td>1.0</td>\n",
       "      <td>11.05</td>\n",
       "      <td>2.5</td>\n",
       "      <td>NaN</td>\n",
       "      <td>0.0</td>\n",
       "    </tr>\n",
       "    <tr>\n",
       "      <th>973064</th>\n",
       "      <td>2.0</td>\n",
       "      <td>2023-01-11 21:50:47</td>\n",
       "      <td>2023-01-11 22:07:03</td>\n",
       "      <td>6.0</td>\n",
       "      <td>3.13</td>\n",
       "      <td>1.0</td>\n",
       "      <td>N</td>\n",
       "      <td>239.0</td>\n",
       "      <td>161.0</td>\n",
       "      <td>1.0</td>\n",
       "      <td>18.4</td>\n",
       "      <td>1.0</td>\n",
       "      <td>0.5</td>\n",
       "      <td>5.85</td>\n",
       "      <td>0.0</td>\n",
       "      <td>1.0</td>\n",
       "      <td>29.25</td>\n",
       "      <td>2.5</td>\n",
       "      <td>0.0</td>\n",
       "      <td>NaN</td>\n",
       "    </tr>\n",
       "  </tbody>\n",
       "</table>\n",
       "</div>"
      ],
      "text/plain": [
       "         VendorID tpep_pickup_datetime tpep_dropoff_datetime  passenger_count  \\\n",
       "1608303       2.0  2023-02-16 18:12:40   2023-02-16 18:30:21              1.0   \n",
       "1850443       2.0  2023-01-20 15:36:21   2023-01-20 15:53:45              1.0   \n",
       "1354948       1.0  2023-01-15 14:43:54   2023-01-15 14:54:02              1.0   \n",
       "1823241       2.0  2023-02-18 18:43:40   2023-02-18 18:47:45              1.0   \n",
       "973064        2.0  2023-01-11 21:50:47   2023-01-11 22:07:03              6.0   \n",
       "\n",
       "         trip_distance  RatecodeID store_and_fwd_flag  PULocationID  \\\n",
       "1608303           2.22         1.0                  N         170.0   \n",
       "1850443           2.58         1.0                  N         230.0   \n",
       "1354948           1.30         1.0                  N         100.0   \n",
       "1823241           0.58         1.0                  N         236.0   \n",
       "973064            3.13         1.0                  N         239.0   \n",
       "\n",
       "         DOLocationID  payment_type  fare_amount  extra  mta_tax  tip_amount  \\\n",
       "1608303         114.0           1.0         17.0    2.5      0.5        4.70   \n",
       "1850443          43.0           1.0         17.7    0.0      0.5        2.00   \n",
       "1354948         230.0           1.0         10.7    2.5      0.5        1.50   \n",
       "1823241         236.0           1.0          5.8    0.0      0.5        1.25   \n",
       "973064          161.0           1.0         18.4    1.0      0.5        5.85   \n",
       "\n",
       "         tolls_amount  improvement_surcharge  total_amount  \\\n",
       "1608303           0.0                    1.0         28.20   \n",
       "1850443           0.0                    1.0         23.70   \n",
       "1354948           0.0                    1.0         16.20   \n",
       "1823241           0.0                    1.0         11.05   \n",
       "973064            0.0                    1.0         29.25   \n",
       "\n",
       "         congestion_surcharge  airport_fee  Airport_fee  \n",
       "1608303                   2.5          NaN          0.0  \n",
       "1850443                   2.5          0.0          NaN  \n",
       "1354948                   2.5          0.0          NaN  \n",
       "1823241                   2.5          NaN          0.0  \n",
       "973064                    2.5          0.0          NaN  "
      ]
     },
     "execution_count": 8,
     "metadata": {},
     "output_type": "execute_result"
    }
   ],
   "source": [
    "df_train.sample(5)"
   ]
  },
  {
   "cell_type": "code",
   "execution_count": 9,
   "metadata": {},
   "outputs": [
    {
     "name": "stdout",
     "output_type": "stream",
     "text": [
      "Mean train set: 950.406348257279\n"
     ]
    }
   ],
   "source": [
    "mean_train = np.mean(y_train)\n",
    "print(\"Mean train set:\", mean_train)"
   ]
  },
  {
   "cell_type": "code",
   "execution_count": 10,
   "metadata": {},
   "outputs": [],
   "source": [
    "pred_train = np.ones(df_train.shape[0]) * mean_train\n",
    "pred_valid = np.ones(df_valid.shape[0]) * mean_train"
   ]
  },
  {
   "cell_type": "code",
   "execution_count": 11,
   "metadata": {},
   "outputs": [
    {
     "name": "stdout",
     "output_type": "stream",
     "text": [
      "RMSE train: 2564.680438763644\n",
      "RMSE valid: 2626.459298785607\n"
     ]
    }
   ],
   "source": [
    "rmse_train = mean_squared_error(y_true=y_train, y_pred=pred_train, squared=False)\n",
    "rmse_valid = mean_squared_error(y_true=y_valid, y_pred=pred_valid, squared=False)\n",
    "print(\"RMSE train:\", rmse_train)\n",
    "print(\"RMSE valid:\", rmse_valid)"
   ]
  },
  {
   "cell_type": "code",
   "execution_count": 12,
   "metadata": {},
   "outputs": [
    {
     "data": {
      "text/plain": [
       "array([950.40634826, 950.40634826, 950.40634826, ..., 950.40634826,\n",
       "       950.40634826, 950.40634826])"
      ]
     },
     "execution_count": 12,
     "metadata": {},
     "output_type": "execute_result"
    }
   ],
   "source": [
    "pred_train"
   ]
  },
  {
   "cell_type": "code",
   "execution_count": 13,
   "metadata": {},
   "outputs": [
    {
     "data": {
      "text/plain": [
       "0            506.0\n",
       "1            379.0\n",
       "2            765.0\n",
       "3            577.0\n",
       "4            650.0\n",
       "            ...   \n",
       "2932889    57176.0\n",
       "3033658      535.0\n",
       "3040040     2549.0\n",
       "3133953      885.0\n",
       "3139871    43995.0\n",
       "Name: duration, Length: 5980791, dtype: float64"
      ]
     },
     "execution_count": 13,
     "metadata": {},
     "output_type": "execute_result"
    }
   ],
   "source": [
    "y_train"
   ]
  },
  {
   "cell_type": "code",
   "execution_count": null,
   "metadata": {},
   "outputs": [],
   "source": []
  }
 ],
 "metadata": {
  "kernelspec": {
   "display_name": "nyc-taxi",
   "language": "python",
   "name": "python3"
  },
  "language_info": {
   "codemirror_mode": {
    "name": "ipython",
    "version": 3
   },
   "file_extension": ".py",
   "mimetype": "text/x-python",
   "name": "python",
   "nbconvert_exporter": "python",
   "pygments_lexer": "ipython3",
   "version": "3.10.13"
  }
 },
 "nbformat": 4,
 "nbformat_minor": 2
}
