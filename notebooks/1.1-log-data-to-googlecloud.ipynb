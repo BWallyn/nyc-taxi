{
 "cells": [
  {
   "cell_type": "markdown",
   "metadata": {},
   "source": [
    "# Analyze data"
   ]
  },
  {
   "cell_type": "markdown",
   "metadata": {},
   "source": [
    "# 1. Imports"
   ]
  },
  {
   "cell_type": "markdown",
   "metadata": {},
   "source": [
    "## 1.1 Packages"
   ]
  },
  {
   "cell_type": "code",
   "execution_count": 1,
   "metadata": {},
   "outputs": [],
   "source": [
    "# Essential\n",
    "import sys\n",
    "\n",
    "# Data science\n",
    "import pandas as pd\n",
    "\n",
    "# Plots\n",
    "import seaborn as sns"
   ]
  },
  {
   "cell_type": "code",
   "execution_count": 2,
   "metadata": {},
   "outputs": [],
   "source": [
    "sys.path.append('../src/nyc_taxi/pipelines/data_engineering')\n",
    "from download_data import download_dataset_yymm\n",
    "# from nodes import create_id"
   ]
  },
  {
   "cell_type": "markdown",
   "metadata": {},
   "source": [
    "## 1.2 Options"
   ]
  },
  {
   "cell_type": "code",
   "execution_count": 3,
   "metadata": {},
   "outputs": [],
   "source": [
    "# Pandas option\n",
    "pd.options.display.max_columns = 100\n",
    "\n",
    "# Plots option\n",
    "sns.set_style(\"white\")\n",
    "sns.set_color_codes(palette='deep')"
   ]
  },
  {
   "cell_type": "code",
   "execution_count": 4,
   "metadata": {},
   "outputs": [],
   "source": [
    "%load_ext autoreload\n",
    "%autoreload 2"
   ]
  },
  {
   "cell_type": "code",
   "execution_count": 5,
   "metadata": {},
   "outputs": [],
   "source": [
    "link_nyc_taxi = \"https://d37ci6vzurychx.cloudfront.net/trip-data/yellow_tripdata_\""
   ]
  },
  {
   "cell_type": "markdown",
   "metadata": {},
   "source": [
    "## 1.3 Dataset"
   ]
  },
  {
   "cell_type": "code",
   "execution_count": 6,
   "metadata": {},
   "outputs": [],
   "source": [
    "df = download_dataset_yymm(link=link_nyc_taxi, year_month=\"2022-04\")\n",
    "# df = create_id(df)"
   ]
  },
  {
   "cell_type": "code",
   "execution_count": 7,
   "metadata": {},
   "outputs": [
    {
     "data": {
      "text/html": [
       "<div>\n",
       "<style scoped>\n",
       "    .dataframe tbody tr th:only-of-type {\n",
       "        vertical-align: middle;\n",
       "    }\n",
       "\n",
       "    .dataframe tbody tr th {\n",
       "        vertical-align: top;\n",
       "    }\n",
       "\n",
       "    .dataframe thead th {\n",
       "        text-align: right;\n",
       "    }\n",
       "</style>\n",
       "<table border=\"1\" class=\"dataframe\">\n",
       "  <thead>\n",
       "    <tr style=\"text-align: right;\">\n",
       "      <th></th>\n",
       "      <th>VendorID</th>\n",
       "      <th>tpep_pickup_datetime</th>\n",
       "      <th>tpep_dropoff_datetime</th>\n",
       "      <th>passenger_count</th>\n",
       "      <th>trip_distance</th>\n",
       "      <th>RatecodeID</th>\n",
       "      <th>store_and_fwd_flag</th>\n",
       "      <th>PULocationID</th>\n",
       "      <th>DOLocationID</th>\n",
       "      <th>payment_type</th>\n",
       "      <th>fare_amount</th>\n",
       "      <th>extra</th>\n",
       "      <th>mta_tax</th>\n",
       "      <th>tip_amount</th>\n",
       "      <th>tolls_amount</th>\n",
       "      <th>improvement_surcharge</th>\n",
       "      <th>total_amount</th>\n",
       "      <th>congestion_surcharge</th>\n",
       "      <th>airport_fee</th>\n",
       "    </tr>\n",
       "  </thead>\n",
       "  <tbody>\n",
       "    <tr>\n",
       "      <th>2148404</th>\n",
       "      <td>2</td>\n",
       "      <td>2022-04-19 18:13:38</td>\n",
       "      <td>2022-04-19 18:23:53</td>\n",
       "      <td>4.0</td>\n",
       "      <td>2.02</td>\n",
       "      <td>1.0</td>\n",
       "      <td>N</td>\n",
       "      <td>264</td>\n",
       "      <td>129</td>\n",
       "      <td>1</td>\n",
       "      <td>10.0</td>\n",
       "      <td>1.0</td>\n",
       "      <td>0.5</td>\n",
       "      <td>2.95</td>\n",
       "      <td>0.0</td>\n",
       "      <td>0.3</td>\n",
       "      <td>16.00</td>\n",
       "      <td>0.0</td>\n",
       "      <td>1.25</td>\n",
       "    </tr>\n",
       "    <tr>\n",
       "      <th>343593</th>\n",
       "      <td>2</td>\n",
       "      <td>2022-04-03 20:40:24</td>\n",
       "      <td>2022-04-03 21:06:41</td>\n",
       "      <td>1.0</td>\n",
       "      <td>14.69</td>\n",
       "      <td>1.0</td>\n",
       "      <td>N</td>\n",
       "      <td>132</td>\n",
       "      <td>179</td>\n",
       "      <td>1</td>\n",
       "      <td>41.0</td>\n",
       "      <td>0.5</td>\n",
       "      <td>0.5</td>\n",
       "      <td>5.00</td>\n",
       "      <td>0.0</td>\n",
       "      <td>0.3</td>\n",
       "      <td>48.55</td>\n",
       "      <td>0.0</td>\n",
       "      <td>1.25</td>\n",
       "    </tr>\n",
       "    <tr>\n",
       "      <th>1024107</th>\n",
       "      <td>2</td>\n",
       "      <td>2022-04-09 17:11:36</td>\n",
       "      <td>2022-04-09 17:26:52</td>\n",
       "      <td>1.0</td>\n",
       "      <td>2.00</td>\n",
       "      <td>1.0</td>\n",
       "      <td>N</td>\n",
       "      <td>211</td>\n",
       "      <td>68</td>\n",
       "      <td>2</td>\n",
       "      <td>11.0</td>\n",
       "      <td>0.0</td>\n",
       "      <td>0.5</td>\n",
       "      <td>0.00</td>\n",
       "      <td>0.0</td>\n",
       "      <td>0.3</td>\n",
       "      <td>14.30</td>\n",
       "      <td>2.5</td>\n",
       "      <td>0.00</td>\n",
       "    </tr>\n",
       "    <tr>\n",
       "      <th>2053513</th>\n",
       "      <td>2</td>\n",
       "      <td>2022-04-18 20:56:41</td>\n",
       "      <td>2022-04-18 21:25:19</td>\n",
       "      <td>3.0</td>\n",
       "      <td>11.10</td>\n",
       "      <td>1.0</td>\n",
       "      <td>N</td>\n",
       "      <td>132</td>\n",
       "      <td>36</td>\n",
       "      <td>1</td>\n",
       "      <td>32.5</td>\n",
       "      <td>0.5</td>\n",
       "      <td>0.5</td>\n",
       "      <td>7.01</td>\n",
       "      <td>0.0</td>\n",
       "      <td>0.3</td>\n",
       "      <td>42.06</td>\n",
       "      <td>0.0</td>\n",
       "      <td>1.25</td>\n",
       "    </tr>\n",
       "    <tr>\n",
       "      <th>549975</th>\n",
       "      <td>1</td>\n",
       "      <td>2022-04-05 19:42:24</td>\n",
       "      <td>2022-04-05 19:50:32</td>\n",
       "      <td>1.0</td>\n",
       "      <td>1.10</td>\n",
       "      <td>1.0</td>\n",
       "      <td>N</td>\n",
       "      <td>170</td>\n",
       "      <td>68</td>\n",
       "      <td>1</td>\n",
       "      <td>7.0</td>\n",
       "      <td>3.5</td>\n",
       "      <td>0.5</td>\n",
       "      <td>2.25</td>\n",
       "      <td>0.0</td>\n",
       "      <td>0.3</td>\n",
       "      <td>13.55</td>\n",
       "      <td>2.5</td>\n",
       "      <td>0.00</td>\n",
       "    </tr>\n",
       "  </tbody>\n",
       "</table>\n",
       "</div>"
      ],
      "text/plain": [
       "         VendorID tpep_pickup_datetime tpep_dropoff_datetime  passenger_count  \\\n",
       "2148404         2  2022-04-19 18:13:38   2022-04-19 18:23:53              4.0   \n",
       "343593          2  2022-04-03 20:40:24   2022-04-03 21:06:41              1.0   \n",
       "1024107         2  2022-04-09 17:11:36   2022-04-09 17:26:52              1.0   \n",
       "2053513         2  2022-04-18 20:56:41   2022-04-18 21:25:19              3.0   \n",
       "549975          1  2022-04-05 19:42:24   2022-04-05 19:50:32              1.0   \n",
       "\n",
       "         trip_distance  RatecodeID store_and_fwd_flag  PULocationID  \\\n",
       "2148404           2.02         1.0                  N           264   \n",
       "343593           14.69         1.0                  N           132   \n",
       "1024107           2.00         1.0                  N           211   \n",
       "2053513          11.10         1.0                  N           132   \n",
       "549975            1.10         1.0                  N           170   \n",
       "\n",
       "         DOLocationID  payment_type  fare_amount  extra  mta_tax  tip_amount  \\\n",
       "2148404           129             1         10.0    1.0      0.5        2.95   \n",
       "343593            179             1         41.0    0.5      0.5        5.00   \n",
       "1024107            68             2         11.0    0.0      0.5        0.00   \n",
       "2053513            36             1         32.5    0.5      0.5        7.01   \n",
       "549975             68             1          7.0    3.5      0.5        2.25   \n",
       "\n",
       "         tolls_amount  improvement_surcharge  total_amount  \\\n",
       "2148404           0.0                    0.3         16.00   \n",
       "343593            0.0                    0.3         48.55   \n",
       "1024107           0.0                    0.3         14.30   \n",
       "2053513           0.0                    0.3         42.06   \n",
       "549975            0.0                    0.3         13.55   \n",
       "\n",
       "         congestion_surcharge  airport_fee  \n",
       "2148404                   0.0         1.25  \n",
       "343593                    0.0         1.25  \n",
       "1024107                   2.5         0.00  \n",
       "2053513                   0.0         1.25  \n",
       "549975                    2.5         0.00  "
      ]
     },
     "execution_count": 7,
     "metadata": {},
     "output_type": "execute_result"
    }
   ],
   "source": [
    "df.sample(5)"
   ]
  },
  {
   "cell_type": "markdown",
   "metadata": {},
   "source": [
    "# 2. Analyze data"
   ]
  },
  {
   "cell_type": "code",
   "execution_count": null,
   "metadata": {},
   "outputs": [],
   "source": [
    "from google.cloud import storage\n",
    "\n",
    "def upload_to_gcs(bucket_name: str, source_file_path: str, destination_blob_name: str, credentials_file: str) -> None:\n",
    "    \"\"\"\n",
    "    \"\"\"\n",
    "    # Initialize the Google Cloud Storage client with the credentials\n",
    "    storage_client = storage.Client.from_service_account_json(credentials_file)\n",
    "\n",
    "    # Get the target bucket\n",
    "    bucket = storage_client.bucket(bucket_name)\n",
    "\n",
    "    # Upload the file to the bucket\n",
    "    blob = bucket.blob(destination_blob_name)\n",
    "    blob.upload_from_filename(source_file_path)\n",
    "\n",
    "    print(f\"File {source_file_path} uploaded to gs://{bucket_name}/{destination_blob_name}\")"
   ]
  },
  {
   "cell_type": "code",
   "execution_count": null,
   "metadata": {},
   "outputs": [],
   "source": [
    "BUCKET_NAME = \"nyc-taxi-trip-bucket\"\n",
    "SOURCE_FILE_PATH = \"../conf/local/nyc-taxi-409418-4f5dbef2c6bc.json\"\n",
    "DESTINATION_BLOB_NAME = \"nyc-taxi-data.pkl\""
   ]
  }
 ],
 "metadata": {
  "kernelspec": {
   "display_name": "nyc-taxi",
   "language": "python",
   "name": "python3"
  },
  "language_info": {
   "codemirror_mode": {
    "name": "ipython",
    "version": 3
   },
   "file_extension": ".py",
   "mimetype": "text/x-python",
   "name": "python",
   "nbconvert_exporter": "python",
   "pygments_lexer": "ipython3",
   "version": "3.10.13"
  }
 },
 "nbformat": 4,
 "nbformat_minor": 2
}
